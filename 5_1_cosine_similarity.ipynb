{
  "nbformat": 4,
# 주피터노트북4.0버전에서 사용하고 파이썬코드를 생성하고 읽고 수정하는 작업을 수행함
  "nbformat_minor": 0,
# 주피터노트북 4.0버전의 0번쨰 버전

  "metadata": {
# 사용자, 생성 날짜, 수정 내역, 커널 설정
    "colab": {
# metadata에 colab이란
      "provenance": [],
# 데이터의 출처나 과정을 []에 기록
      "collapsed_sections": []
# 접힌 상태의 섹션을 []에 리스트형태로 저장
    },
    "kernelspec": {
#
      "name": "python3",
      "display_name": "Python 3"
    },
    "language_info": {
      "name": "python"
    }
  },
  "cells": [
    {
      "cell_type": "markdown",
      "source": [
        "# 코사인 유사도"
      ],
      "metadata": {
        "id": "Xs9vSd3T8WZI"
      }
    },
    {
      "cell_type": "markdown",
      "source": [
        "**예) Numpy의 dot과 norm을 사용해서 문서 단어 행렬에 대한 코사인 유사도 함수를 구현하기**"
      ],
      "metadata": {
        "id": "LN5xpRy18XCR"
      }
    },
    {
      "cell_type": "markdown",
      "source": [
        "문서 1 : 저는 사과 좋아요<br>\n",
        "문서 2 : 저는 바나나 좋아요<br>\n",
        "문서 3 : 저는 바나나 좋아요 저는 바나나 좋아요"
      ],
      "metadata": {
        "id": "uBNTKHmd8ePo"
      }
    },
    {
      "cell_type": "markdown",
      "source": [
        "![단어.PNG](data:image/png;base64,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)"
      ],
      "metadata": {
        "id": "wKCwSFu3-Thi"
      }
    },
    {
      "cell_type": "code",
      "source": [
        "from numpy import dot\n",
        "from numpy.linalg import norm\n",
        "import numpy as np"
      ],
      "metadata": {
        "id": "M01a2wL48aIC"
      },
      "execution_count": 1,
      "outputs": []
    },
    {
      "cell_type": "markdown",
      "source": [
        "![유사도.PNG](data:image/png;base64,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)"
      ],
      "metadata": {
        "id": "s2_y0J2u-igy"
      }
    },
    {
      "cell_type": "code",
      "source": [
        "def cos_sim(A, B):\n",
        "  return dot(A, B)/(norm(A)*norm(B))"
      ],
      "metadata": {
        "id": "vtM_2C3s8biZ"
      },
      "execution_count": 2,
      "outputs": []
    },
    {
      "cell_type": "code",
      "source": [
        "doc1 = np.array([0,1,1,1])\n",
        "doc2 = np.array([1,0,1,1])\n",
        "doc3 = np.array([2,0,2,2])"
      ],
      "metadata": {
        "id": "prc7X-T68cBH"
      },
      "execution_count": 3,
      "outputs": []
    },
    {
      "cell_type": "code",
      "source": [
        "print('문서 1과 문서2의 유사도 :',cos_sim(doc1, doc2))\n",
        "print('문서 1과 문서3의 유사도 :',cos_sim(doc1, doc3))\n",
        "print('문서 2와 문서3의 유사도 :',cos_sim(doc2, doc3))"
      ],
      "metadata": {
        "colab": {
          "base_uri": "https://localhost:8080/"
        },
        "id": "EVb-OQig8cq_",
        "outputId": "e7790c4a-5985-4267-f378-8cdfa31f7a04"
      },
      "execution_count": 4,
      "outputs": [
        {
          "output_type": "stream",
          "name": "stdout",
          "text": [
            "문서 1과 문서2의 유사도 : 0.6666666666666667\n",
            "문서 1과 문서3의 유사도 : 0.6666666666666667\n",
            "문서 2와 문서3의 유사도 : 1.0000000000000002\n"
          ]
        }
      ]
    },
    {
      "cell_type": "markdown",
      "source": [
        "# 유사도를 이용한 추천 시스템 구현하기"
      ],
      "metadata": {
        "id": "Wuu4dGHc8h-r"
      }
    },
    {
      "cell_type": "markdown",
      "source": [
        "**영화 데이터셋을 가지고 영화를 입력하면, 해당 영화의 줄거리와 유사한 줄거리의 영화를 찾아 추천하는 영화 추천 시스템 만들기**"
      ],
      "metadata": {
        "id": "_0pgmEuk9ifT"
      }
    },
    {
      "cell_type": "code",
      "source": [
        "import pandas as pd\n",
        "from sklearn.feature_extraction.text import TfidfVectorizer\n",
        "from sklearn.metrics.pairwise import cosine_similarity"
      ],
      "metadata": {
        "id": "YP1XdUxy8inT"
      },
      "execution_count": 5,
      "outputs": []
    },
    {
      "cell_type": "markdown",
      "source": [
        "**1) 원본 파일인 총 24개의 열을 가진 45466개의 샘플로 구성된 영화 정보 데이터 movies_metadata.csv 파일을 다운받기**"
      ],
      "metadata": {
        "id": "no0twjVJ9lXZ"
      }
    },
    {
      "cell_type": "code",
      "source": [
        "from google.colab import drive\n",
        "drive.mount('/content/drive')"
      ],
      "metadata": {
        "colab": {
          "base_uri": "https://localhost:8080/"
        },
        "id": "Gg-C5QZ08wvg",
        "outputId": "fee9ff07-9352-45d2-974b-d30ee0345e4a"
      },
      "execution_count": 6,
      "outputs": [
        {
          "output_type": "stream",
          "name": "stdout",
          "text": [
            "Mounted at /content/drive\n"
          ]
        }
      ]
    },
    {
      "cell_type": "code",
      "source": [
        "PATH = '/content/drive/MyDrive/Colab Notebooks/dataset/'"
      ],
      "metadata": {
        "id": "ZYPXfZUz9FIq"
      },
      "execution_count": 10,
      "outputs": []
    },
    {
      "cell_type": "markdown",
      "source": [
        "**2) 다운로드 받은 훈련 데이터에서 상위 2개의 샘플만 출력하여 데이터의 형식을 확인**"
      ],
      "metadata": {
        "id": "017-Whid9nsV"
      }
    },
    {
      "cell_type": "code",
      "source": [
        "data = pd.read_csv(PATH + 'movies_metadata.csv', encoding = 'utf-8-sig', low_memory=False)\n",
        "data.head(2)"
      ],
      "metadata": {
        "colab": {
          "base_uri": "https://localhost:8080/",
          "height": 396
        },
        "id": "lBLfXW0G8nQg",
        "outputId": "b88182cb-e1db-46b4-ff6b-c4181d64cd1a"
      },
      "execution_count": 11,
      "outputs": [
        {
          "output_type": "execute_result",
          "data": {
            "text/plain": [
              "   adult                              belongs_to_collection    budget  \\\n",
              "0  False  {'id': 10194, 'name': 'Toy Story Collection', ...  30000000   \n",
              "1  False                                                NaN  65000000   \n",
              "\n",
              "                                              genres  \\\n",
              "0  [{'id': 16, 'name': 'Animation'}, {'id': 35, '...   \n",
              "1  [{'id': 12, 'name': 'Adventure'}, {'id': 14, '...   \n",
              "\n",
              "                               homepage    id    imdb_id original_language  \\\n",
              "0  http://toystory.disney.com/toy-story   862  tt0114709                en   \n",
              "1                                   NaN  8844  tt0113497                en   \n",
              "\n",
              "  original_title                                           overview  ...  \\\n",
              "0      Toy Story  Led by Woody, Andy's toys live happily in his ...  ...   \n",
              "1        Jumanji  When siblings Judy and Peter discover an encha...  ...   \n",
              "\n",
              "  release_date      revenue runtime  \\\n",
              "0   1995-10-30  373554033.0    81.0   \n",
              "1   1995-12-15  262797249.0   104.0   \n",
              "\n",
              "                                    spoken_languages    status  \\\n",
              "0           [{'iso_639_1': 'en', 'name': 'English'}]  Released   \n",
              "1  [{'iso_639_1': 'en', 'name': 'English'}, {'iso...  Released   \n",
              "\n",
              "                                     tagline      title  video vote_average  \\\n",
              "0                                        NaN  Toy Story  False          7.7   \n",
              "1  Roll the dice and unleash the excitement!    Jumanji  False          6.9   \n",
              "\n",
              "  vote_count  \n",
              "0     5415.0  \n",
              "1     2413.0  \n",
              "\n",
              "[2 rows x 24 columns]"
            ],
            "text/html": [
              "\n",
              "  <div id=\"df-a06ac27b-e196-4b97-8554-88c62710321b\">\n",
              "    <div class=\"colab-df-container\">\n",
              "      <div>\n",
              "<style scoped>\n",
              "    .dataframe tbody tr th:only-of-type {\n",
              "        vertical-align: middle;\n",
              "    }\n",
              "\n",
              "    .dataframe tbody tr th {\n",
              "        vertical-align: top;\n",
              "    }\n",
              "\n",
              "    .dataframe thead th {\n",
              "        text-align: right;\n",
              "    }\n",
              "</style>\n",
              "<table border=\"1\" class=\"dataframe\">\n",
              "  <thead>\n",
              "    <tr style=\"text-align: right;\">\n",
              "      <th></th>\n",
              "      <th>adult</th>\n",
              "      <th>belongs_to_collection</th>\n",
              "      <th>budget</th>\n",
              "      <th>genres</th>\n",
              "      <th>homepage</th>\n",
              "      <th>id</th>\n",
              "      <th>imdb_id</th>\n",
              "      <th>original_language</th>\n",
              "      <th>original_title</th>\n",
              "      <th>overview</th>\n",
              "      <th>...</th>\n",
              "      <th>release_date</th>\n",
              "      <th>revenue</th>\n",
              "      <th>runtime</th>\n",
              "      <th>spoken_languages</th>\n",
              "      <th>status</th>\n",
              "      <th>tagline</th>\n",
              "      <th>title</th>\n",
              "      <th>video</th>\n",
              "      <th>vote_average</th>\n",
              "      <th>vote_count</th>\n",
              "    </tr>\n",
              "  </thead>\n",
              "  <tbody>\n",
              "    <tr>\n",
              "      <th>0</th>\n",
              "      <td>False</td>\n",
              "      <td>{'id': 10194, 'name': 'Toy Story Collection', ...</td>\n",
              "      <td>30000000</td>\n",
              "      <td>[{'id': 16, 'name': 'Animation'}, {'id': 35, '...</td>\n",
              "      <td>http://toystory.disney.com/toy-story</td>\n",
              "      <td>862</td>\n",
              "      <td>tt0114709</td>\n",
              "      <td>en</td>\n",
              "      <td>Toy Story</td>\n",
              "      <td>Led by Woody, Andy's toys live happily in his ...</td>\n",
              "      <td>...</td>\n",
              "      <td>1995-10-30</td>\n",
              "      <td>373554033.0</td>\n",
              "      <td>81.0</td>\n",
              "      <td>[{'iso_639_1': 'en', 'name': 'English'}]</td>\n",
              "      <td>Released</td>\n",
              "      <td>NaN</td>\n",
              "      <td>Toy Story</td>\n",
              "      <td>False</td>\n",
              "      <td>7.7</td>\n",
              "      <td>5415.0</td>\n",
              "    </tr>\n",
              "    <tr>\n",
              "      <th>1</th>\n",
              "      <td>False</td>\n",
              "      <td>NaN</td>\n",
              "      <td>65000000</td>\n",
              "      <td>[{'id': 12, 'name': 'Adventure'}, {'id': 14, '...</td>\n",
              "      <td>NaN</td>\n",
              "      <td>8844</td>\n",
              "      <td>tt0113497</td>\n",
              "      <td>en</td>\n",
              "      <td>Jumanji</td>\n",
              "      <td>When siblings Judy and Peter discover an encha...</td>\n",
              "      <td>...</td>\n",
              "      <td>1995-12-15</td>\n",
              "      <td>262797249.0</td>\n",
              "      <td>104.0</td>\n",
              "      <td>[{'iso_639_1': 'en', 'name': 'English'}, {'iso...</td>\n",
              "      <td>Released</td>\n",
              "      <td>Roll the dice and unleash the excitement!</td>\n",
              "      <td>Jumanji</td>\n",
              "      <td>False</td>\n",
              "      <td>6.9</td>\n",
              "      <td>2413.0</td>\n",
              "    </tr>\n",
              "  </tbody>\n",
              "</table>\n",
              "<p>2 rows × 24 columns</p>\n",
              "</div>\n",
              "      <button class=\"colab-df-convert\" onclick=\"convertToInteractive('df-a06ac27b-e196-4b97-8554-88c62710321b')\"\n",
              "              title=\"Convert this dataframe to an interactive table.\"\n",
              "              style=\"display:none;\">\n",
              "        \n",
              "  <svg xmlns=\"http://www.w3.org/2000/svg\" height=\"24px\"viewBox=\"0 0 24 24\"\n",
              "       width=\"24px\">\n",
              "    <path d=\"M0 0h24v24H0V0z\" fill=\"none\"/>\n",
              "    <path d=\"M18.56 5.44l.94 2.06.94-2.06 2.06-.94-2.06-.94-.94-2.06-.94 2.06-2.06.94zm-11 1L8.5 8.5l.94-2.06 2.06-.94-2.06-.94L8.5 2.5l-.94 2.06-2.06.94zm10 10l.94 2.06.94-2.06 2.06-.94-2.06-.94-.94-2.06-.94 2.06-2.06.94z\"/><path d=\"M17.41 7.96l-1.37-1.37c-.4-.4-.92-.59-1.43-.59-.52 0-1.04.2-1.43.59L10.3 9.45l-7.72 7.72c-.78.78-.78 2.05 0 2.83L4 21.41c.39.39.9.59 1.41.59.51 0 1.02-.2 1.41-.59l7.78-7.78 2.81-2.81c.8-.78.8-2.07 0-2.86zM5.41 20L4 18.59l7.72-7.72 1.47 1.35L5.41 20z\"/>\n",
              "  </svg>\n",
              "      </button>\n",
              "      \n",
              "  <style>\n",
              "    .colab-df-container {\n",
              "      display:flex;\n",
              "      flex-wrap:wrap;\n",
              "      gap: 12px;\n",
              "    }\n",
              "\n",
              "    .colab-df-convert {\n",
              "      background-color: #E8F0FE;\n",
              "      border: none;\n",
              "      border-radius: 50%;\n",
              "      cursor: pointer;\n",
              "      display: none;\n",
              "      fill: #1967D2;\n",
              "      height: 32px;\n",
              "      padding: 0 0 0 0;\n",
              "      width: 32px;\n",
              "    }\n",
              "\n",
              "    .colab-df-convert:hover {\n",
              "      background-color: #E2EBFA;\n",
              "      box-shadow: 0px 1px 2px rgba(60, 64, 67, 0.3), 0px 1px 3px 1px rgba(60, 64, 67, 0.15);\n",
              "      fill: #174EA6;\n",
              "    }\n",
              "\n",
              "    [theme=dark] .colab-df-convert {\n",
              "      background-color: #3B4455;\n",
              "      fill: #D2E3FC;\n",
              "    }\n",
              "\n",
              "    [theme=dark] .colab-df-convert:hover {\n",
              "      background-color: #434B5C;\n",
              "      box-shadow: 0px 1px 3px 1px rgba(0, 0, 0, 0.15);\n",
              "      filter: drop-shadow(0px 1px 2px rgba(0, 0, 0, 0.3));\n",
              "      fill: #FFFFFF;\n",
              "    }\n",
              "  </style>\n",
              "\n",
              "      <script>\n",
              "        const buttonEl =\n",
              "          document.querySelector('#df-a06ac27b-e196-4b97-8554-88c62710321b button.colab-df-convert');\n",
              "        buttonEl.style.display =\n",
              "          google.colab.kernel.accessAllowed ? 'block' : 'none';\n",
              "\n",
              "        async function convertToInteractive(key) {\n",
              "          const element = document.querySelector('#df-a06ac27b-e196-4b97-8554-88c62710321b');\n",
              "          const dataTable =\n",
              "            await google.colab.kernel.invokeFunction('convertToInteractive',\n",
              "                                                     [key], {});\n",
              "          if (!dataTable) return;\n",
              "\n",
              "          const docLinkHtml = 'Like what you see? Visit the ' +\n",
              "            '<a target=\"_blank\" href=https://colab.research.google.com/notebooks/data_table.ipynb>data table notebook</a>'\n",
              "            + ' to learn more about interactive tables.';\n",
              "          element.innerHTML = '';\n",
              "          dataTable['output_type'] = 'display_data';\n",
              "          await google.colab.output.renderOutput(dataTable, element);\n",
              "          const docLink = document.createElement('div');\n",
              "          docLink.innerHTML = docLinkHtml;\n",
              "          element.appendChild(docLink);\n",
              "        }\n",
              "      </script>\n",
              "    </div>\n",
              "  </div>\n",
              "  "
            ]
          },
          "metadata": {},
          "execution_count": 11
        }
      ]
    },
    {
      "cell_type": "markdown",
      "source": [
        "**3) 훈련 데이터의 양을 줄이기 위해 데이터를 줄여서 상위 20000개의 샘플만 재저장**"
      ],
      "metadata": {
        "id": "-v6xaDqo9qBZ"
      }
    },
    {
      "cell_type": "code",
      "source": [
        "data = data.head(20000)"
      ],
      "metadata": {
        "id": "1xBTrJId8n2R"
      },
      "execution_count": 12,
      "outputs": []
    },
    {
      "cell_type": "markdown",
      "source": [
        "**4) TF-IDF를 연산할 때 데이터에 Null 값이 들어있으면 에러가 발생하므로 data의 overview(줄거리) 열의 결측값 확인**"
      ],
      "metadata": {
        "id": "fPoW1BQB9sLa"
      }
    },
    {
      "cell_type": "code",
      "source": [
        "print('overview 열의 결측값의 수:',data['overview'].isnull().sum())"
      ],
      "metadata": {
        "colab": {
          "base_uri": "https://localhost:8080/"
        },
        "id": "yUAXr5728od_",
        "outputId": "7702c56c-ab0c-4112-d0f1-34852558cb41"
      },
      "execution_count": 13,
      "outputs": [
        {
          "output_type": "stream",
          "name": "stdout",
          "text": [
            "overview 열의 결측값의 수: 135\n"
          ]
        }
      ]
    },
    {
      "cell_type": "markdown",
      "source": [
        "**5) 결측값을 가진 행을 빈 값으로 대체**"
      ],
      "metadata": {
        "id": "8YaqSYtE9t4K"
      }
    },
    {
      "cell_type": "code",
      "source": [
        "data['overview'] = data['overview'].fillna('')"
      ],
      "metadata": {
        "id": "fCWq3CJj8o6X"
      },
      "execution_count": 14,
      "outputs": []
    },
    {
      "cell_type": "markdown",
      "source": [
        "**6) overview 열에 대해서 TF-IDF 행렬을 구한 후 행렬의 크기를 출력하면 20000개의 행을 가지고 47847의 열을 가짐**<br>\n",
        "&nbsp;&nbsp;&nbsp;&nbsp;&nbsp;**이는 20000개의 영화를 표현하기 위해서 총 47487개의 단어가 사용되었음을 의미하며**<br>\n",
        "&nbsp;&nbsp;&nbsp;&nbsp;&nbsp;**이는 47487 차원의 문서 벡터가 20000개 존재한다는 의미**"
      ],
      "metadata": {
        "id": "ELySI_kx9xQ6"
      }
    },
    {
      "cell_type": "code",
      "source": [
        "tfidf = TfidfVectorizer(stop_words='english')\n",
        "tfidf_matrix = tfidf.fit_transform(data['overview'])\n",
        "print('TF-IDF 행렬의 크기(shape) :',tfidf_matrix.shape)"
      ],
      "metadata": {
        "colab": {
          "base_uri": "https://localhost:8080/"
        },
        "id": "9mBa3cs_8phw",
        "outputId": "e280868a-3464-4641-d1fb-c6e3f7a1f422"
      },
      "execution_count": 15,
      "outputs": [
        {
          "output_type": "stream",
          "name": "stdout",
          "text": [
            "TF-IDF 행렬의 크기(shape) : (20000, 47487)\n"
          ]
        }
      ]
    },
    {
      "cell_type": "markdown",
      "source": [
        "**7) 20000개의 문서 벡터에 대해서 상호 간의 코사인 유사도를 구하여 20000행 20000열의 행렬을 얻음**"
      ],
      "metadata": {
        "id": "zvYjazNy-CJJ"
      }
    },
    {
      "cell_type": "code",
      "source": [
        "cosine_sim = cosine_similarity(tfidf_matrix, tfidf_matrix)"
      ],
      "metadata": {
        "id": "8160WdPB8q-_"
      },
      "execution_count": 16,
      "outputs": []
    },
    {
      "cell_type": "code",
      "source": [
        "print('코사인 유사도 연산 결과 :',cosine_sim.shape)"
      ],
      "metadata": {
        "colab": {
          "base_uri": "https://localhost:8080/"
        },
        "id": "xJ87R93J8rxC",
        "outputId": "26ac6802-b00a-4e2b-e833-522f635ee26d"
      },
      "execution_count": 17,
      "outputs": [
        {
          "output_type": "stream",
          "name": "stdout",
          "text": [
            "코사인 유사도 연산 결과 : (20000, 20000)\n"
          ]
        }
      ]
    },
    {
      "cell_type": "markdown",
      "source": [
        "**8) 기존 데이터프레임으로부터 영화의 타이틀을 key, 영화의 인덱스를 value로 하는 딕셔너리를 생성**"
      ],
      "metadata": {
        "id": "SuiOHtGx-ENZ"
      }
    },
    {
      "cell_type": "code",
      "source": [
        "title_to_index = dict(zip(data['title'], data.index))"
      ],
      "metadata": {
        "id": "zPg6sCN58r1Q"
      },
      "execution_count": 18,
      "outputs": []
    },
    {
      "cell_type": "code",
      "source": [
        "idx = title_to_index['Father of the Bride Part II']\n",
        "print(idx)"
      ],
      "metadata": {
        "colab": {
          "base_uri": "https://localhost:8080/"
        },
        "id": "iTERkO6u8tHf",
        "outputId": "98822285-58d7-4204-ed38-e9920b7e5a28"
      },
      "execution_count": 19,
      "outputs": [
        {
          "output_type": "stream",
          "name": "stdout",
          "text": [
            "4\n"
          ]
        }
      ]
    },
    {
      "cell_type": "markdown",
      "source": [
        "**9) 선택한 영화의 제목을 입력하면 코사인 유사도를 통해 가장 overview가 유사한 10개의 영화를 찾아내는 함수를 생성**"
      ],
      "metadata": {
        "id": "0Thz86iq-KTQ"
      }
    },
    {
      "cell_type": "code",
      "source": [
        "def get_recommendations(title, cosine_sim=cosine_sim):\n",
        "    idx = title_to_index[title]\n",
        "\n",
        "    sim_scores = list(enumerate(cosine_sim[idx]))\n",
        "\n",
        "    sim_scores = sorted(sim_scores, key=lambda x: x[1], reverse=True)\n",
        "\n",
        "    sim_scores = sim_scores[1:11]\n",
        "\n",
        "    movie_indices = [idx[0] for idx in sim_scores]\n",
        "\n",
        "    return data['title'].iloc[movie_indices]"
      ],
      "metadata": {
        "id": "bxOvgeqc8t7A"
      },
      "execution_count": 20,
      "outputs": []
    },
    {
      "cell_type": "markdown",
      "source": [
        "**10) 영화 다크 나이트 라이즈와 overview가 유사한 영화를 찾아보면 다크 나이트를 제외하고는 전부 배트맨 영화를 찾아냄**"
      ],
      "metadata": {
        "id": "soP7Ng9s-MY5"
      }
    },
    {
      "cell_type": "code",
      "source": [
        "get_recommendations('The Dark Knight Rises')"
      ],
      "metadata": {
        "colab": {
          "base_uri": "https://localhost:8080/"
        },
        "id": "26ikciFc8uiX",
        "outputId": "dbca8fd3-87cf-46d2-bffa-635969f315e6"
      },
      "execution_count": 21,
      "outputs": [
        {
          "output_type": "execute_result",
          "data": {
            "text/plain": [
              "12481                            The Dark Knight\n",
              "150                               Batman Forever\n",
              "1328                              Batman Returns\n",
              "15511                 Batman: Under the Red Hood\n",
              "585                                       Batman\n",
              "9230          Batman Beyond: Return of the Joker\n",
              "18035                           Batman: Year One\n",
              "19792    Batman: The Dark Knight Returns, Part 1\n",
              "3095                Batman: Mask of the Phantasm\n",
              "10122                              Batman Begins\n",
              "Name: title, dtype: object"
            ]
          },
          "metadata": {},
          "execution_count": 21
        }
      ]
    }
  ]
}
